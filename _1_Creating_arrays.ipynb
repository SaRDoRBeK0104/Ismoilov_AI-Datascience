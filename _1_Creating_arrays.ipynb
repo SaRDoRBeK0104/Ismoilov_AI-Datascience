{
  "nbformat": 4,
  "nbformat_minor": 0,
  "metadata": {
    "colab": {
      "name": "#1_Creating_arrays.ipynb",
      "provenance": [],
      "collapsed_sections": [],
      "authorship_tag": "ABX9TyMsZVneqbD9p18rn349/iVO",
      "include_colab_link": true
    },
    "kernelspec": {
      "name": "python3",
      "display_name": "Python 3"
    },
    "language_info": {
      "name": "python"
    }
  },
  "cells": [
    {
      "cell_type": "markdown",
      "metadata": {
        "id": "view-in-github",
        "colab_type": "text"
      },
      "source": [
        "<a href=\"https://colab.research.google.com/github/SaRDoRBeK0104/Ismoilov_AI-Datascience/blob/main/_1_Creating_arrays.ipynb\" target=\"_parent\"><img src=\"https://colab.research.google.com/assets/colab-badge.svg\" alt=\"Open In Colab\"/></a>"
      ]
    },
    {
      "cell_type": "code",
      "metadata": {
        "id": "eDupK5MaEvCg"
      },
      "source": [
        ""
      ],
      "execution_count": null,
      "outputs": []
    },
    {
      "cell_type": "markdown",
      "metadata": {
        "id": "2lnqZc-PE8bk"
      },
      "source": [
        "#Creating arrays"
      ]
    },
    {
      "cell_type": "code",
      "metadata": {
        "id": "qscnWziaFEtY"
      },
      "source": [
        "import numpy as np"
      ],
      "execution_count": null,
      "outputs": []
    },
    {
      "cell_type": "code",
      "metadata": {
        "id": "QSAvUjj8FK9W"
      },
      "source": [
        "data1 = [3.2,12,1,6,15.2]   # list\n",
        "arr1 = np.array(data1)  # array1"
      ],
      "execution_count": 3,
      "outputs": []
    },
    {
      "cell_type": "code",
      "metadata": {
        "id": "yEPa2jVzGO0L",
        "colab": {
          "base_uri": "https://localhost:8080/"
        },
        "outputId": "0a66e563-0e0f-43e6-8f35-67e3165a452a"
      },
      "source": [
        "arr1"
      ],
      "execution_count": 5,
      "outputs": [
        {
          "output_type": "execute_result",
          "data": {
            "text/plain": [
              "array([ 3.2, 12. ,  1. ,  6. , 15.2])"
            ]
          },
          "metadata": {},
          "execution_count": 5
        }
      ]
    },
    {
      "cell_type": "code",
      "metadata": {
        "id": "2_Jdy4gOFuSL"
      },
      "source": [
        "data2 = [12,3,2.2,7]  # tuple\n",
        "arr2 = np.array(data2)"
      ],
      "execution_count": 6,
      "outputs": []
    },
    {
      "cell_type": "markdown",
      "metadata": {
        "id": "MtAiCl60H4Mp"
      },
      "source": [
        "Massiv o'lchami \n",
        "**ndim**"
      ]
    },
    {
      "cell_type": "code",
      "metadata": {
        "id": "vAaWapCOG-VW",
        "colab": {
          "base_uri": "https://localhost:8080/"
        },
        "outputId": "fce0f602-234c-41f5-fa37-7a4301a8533a"
      },
      "source": [
        "arr1.ndim"
      ],
      "execution_count": 7,
      "outputs": [
        {
          "output_type": "execute_result",
          "data": {
            "text/plain": [
              "1"
            ]
          },
          "metadata": {},
          "execution_count": 7
        }
      ]
    },
    {
      "cell_type": "code",
      "metadata": {
        "id": "d7SaM4voHT9x",
        "colab": {
          "base_uri": "https://localhost:8080/"
        },
        "outputId": "f6679e73-c8b1-4a76-c75e-517f1c9ef8bb"
      },
      "source": [
        "arr2.ndim"
      ],
      "execution_count": 8,
      "outputs": [
        {
          "output_type": "execute_result",
          "data": {
            "text/plain": [
              "1"
            ]
          },
          "metadata": {},
          "execution_count": 8
        }
      ]
    },
    {
      "cell_type": "markdown",
      "metadata": {
        "id": "3lGefkK4ILFF"
      },
      "source": [
        "**Ikki va undan katta o'lchamli massivlar**"
      ]
    },
    {
      "cell_type": "code",
      "metadata": {
        "id": "joolpU_JIcSw"
      },
      "source": [
        "data3 = [[3,2,1,0],[7,6,5,4]]  #nested list\n",
        "arr3 = np.array(data3)"
      ],
      "execution_count": 9,
      "outputs": []
    },
    {
      "cell_type": "code",
      "metadata": {
        "colab": {
          "base_uri": "https://localhost:8080/"
        },
        "id": "hCN2qEt7I6QI",
        "outputId": "58afdecf-ed2c-48d0-9efc-5a7499f87ae4"
      },
      "source": [
        "arr3"
      ],
      "execution_count": 10,
      "outputs": [
        {
          "output_type": "execute_result",
          "data": {
            "text/plain": [
              "array([[3, 2, 1, 0],\n",
              "       [7, 6, 5, 4]])"
            ]
          },
          "metadata": {},
          "execution_count": 10
        }
      ]
    },
    {
      "cell_type": "code",
      "metadata": {
        "colab": {
          "base_uri": "https://localhost:8080/"
        },
        "id": "9PF0XFgTI_DL",
        "outputId": "c63ecfa2-d9e1-4e80-e068-5ccebe448d96"
      },
      "source": [
        "data3"
      ],
      "execution_count": 11,
      "outputs": [
        {
          "output_type": "execute_result",
          "data": {
            "text/plain": [
              "[[3, 2, 1, 0], [7, 6, 5, 4]]"
            ]
          },
          "metadata": {},
          "execution_count": 11
        }
      ]
    },
    {
      "cell_type": "code",
      "metadata": {
        "colab": {
          "base_uri": "https://localhost:8080/"
        },
        "id": "6KLq3oJhJC6E",
        "outputId": "0a179526-e3f1-4be6-c20e-11c9991e910e"
      },
      "source": [
        "arr3.ndim"
      ],
      "execution_count": 12,
      "outputs": [
        {
          "output_type": "execute_result",
          "data": {
            "text/plain": [
              "2"
            ]
          },
          "metadata": {},
          "execution_count": 12
        }
      ]
    },
    {
      "cell_type": "markdown",
      "metadata": {
        "id": "qGTLxuIqJOsr"
      },
      "source": [
        "**3 o'lchovli massiv**"
      ]
    },
    {
      "cell_type": "code",
      "metadata": {
        "id": "gKXsPbTfJUVo"
      },
      "source": [
        "data4 = [[2,4,5,4],[23,15,10,1],[4,5,14,19]]\n",
        "arr4 = np.array(data4)"
      ],
      "execution_count": 13,
      "outputs": []
    },
    {
      "cell_type": "code",
      "metadata": {
        "colab": {
          "base_uri": "https://localhost:8080/"
        },
        "id": "V-8S9Gw6JrMJ",
        "outputId": "33f99f81-ca00-4434-e405-18e660d06f5d"
      },
      "source": [
        "data4"
      ],
      "execution_count": 15,
      "outputs": [
        {
          "output_type": "execute_result",
          "data": {
            "text/plain": [
              "[[2, 4, 5, 4], [23, 15, 10, 1], [4, 5, 14, 19]]"
            ]
          },
          "metadata": {},
          "execution_count": 15
        }
      ]
    },
    {
      "cell_type": "code",
      "metadata": {
        "colab": {
          "base_uri": "https://localhost:8080/"
        },
        "id": "jH2DxabSJviv",
        "outputId": "4a694c41-572a-428b-8d82-8b4a140e19b7"
      },
      "source": [
        "arr4"
      ],
      "execution_count": 16,
      "outputs": [
        {
          "output_type": "execute_result",
          "data": {
            "text/plain": [
              "array([[ 2,  4,  5,  4],\n",
              "       [23, 15, 10,  1],\n",
              "       [ 4,  5, 14, 19]])"
            ]
          },
          "metadata": {},
          "execution_count": 16
        }
      ]
    },
    {
      "cell_type": "code",
      "metadata": {
        "colab": {
          "base_uri": "https://localhost:8080/"
        },
        "id": "CHhX2cWiJ699",
        "outputId": "a8c1f929-1d48-4091-da24-2b4e553d50c9"
      },
      "source": [
        "arr4.ndim"
      ],
      "execution_count": 17,
      "outputs": [
        {
          "output_type": "execute_result",
          "data": {
            "text/plain": [
              "2"
            ]
          },
          "metadata": {},
          "execution_count": 17
        }
      ]
    },
    {
      "cell_type": "code",
      "metadata": {
        "id": "tDgbkoJfJ9Zf"
      },
      "source": [
        "data5 = np.arange(27).reshape(3,3,3)"
      ],
      "execution_count": 22,
      "outputs": []
    },
    {
      "cell_type": "code",
      "metadata": {
        "colab": {
          "base_uri": "https://localhost:8080/"
        },
        "id": "bmbbh-8BM3WI",
        "outputId": "ad707326-f126-4584-8732-e278ef066e74"
      },
      "source": [
        "data5"
      ],
      "execution_count": 23,
      "outputs": [
        {
          "output_type": "execute_result",
          "data": {
            "text/plain": [
              "array([[[ 0,  1,  2],\n",
              "        [ 3,  4,  5],\n",
              "        [ 6,  7,  8]],\n",
              "\n",
              "       [[ 9, 10, 11],\n",
              "        [12, 13, 14],\n",
              "        [15, 16, 17]],\n",
              "\n",
              "       [[18, 19, 20],\n",
              "        [21, 22, 23],\n",
              "        [24, 25, 26]]])"
            ]
          },
          "metadata": {},
          "execution_count": 23
        }
      ]
    },
    {
      "cell_type": "code",
      "metadata": {
        "colab": {
          "base_uri": "https://localhost:8080/"
        },
        "id": "hrZzpKEVM5uo",
        "outputId": "846a5a62-80fc-43e7-8c94-d5c17357ae55"
      },
      "source": [
        "data5.ndim"
      ],
      "execution_count": 20,
      "outputs": [
        {
          "output_type": "execute_result",
          "data": {
            "text/plain": [
              "3"
            ]
          },
          "metadata": {},
          "execution_count": 20
        }
      ]
    },
    {
      "cell_type": "markdown",
      "metadata": {
        "id": "IqbUTX9HNiwr"
      },
      "source": [
        "**Qo'lbola**"
      ]
    },
    {
      "cell_type": "code",
      "metadata": {
        "id": "-3Hyio1zNrm0"
      },
      "source": [
        "data6 = [[[10,11,12],[13,14,15],[16,17,18]],[[19,20,21],[22,23,24],[25,26,27]]]\n",
        "arr6 = np.array(data6)"
      ],
      "execution_count": 27,
      "outputs": []
    },
    {
      "cell_type": "code",
      "metadata": {
        "colab": {
          "base_uri": "https://localhost:8080/"
        },
        "id": "w3IZ71mJOVbY",
        "outputId": "8273ec2a-484c-4d43-a74f-3bc4cea9b79a"
      },
      "source": [
        "arr6"
      ],
      "execution_count": 28,
      "outputs": [
        {
          "output_type": "execute_result",
          "data": {
            "text/plain": [
              "array([[[10, 11, 12],\n",
              "        [13, 14, 15],\n",
              "        [16, 17, 18]],\n",
              "\n",
              "       [[19, 20, 21],\n",
              "        [22, 23, 24],\n",
              "        [25, 26, 27]]])"
            ]
          },
          "metadata": {},
          "execution_count": 28
        }
      ]
    },
    {
      "cell_type": "code",
      "metadata": {
        "colab": {
          "base_uri": "https://localhost:8080/"
        },
        "id": "FtNJ6H7BOYMp",
        "outputId": "ce378164-549c-4cb8-a313-beed62121cf5"
      },
      "source": [
        "arr6.ndim"
      ],
      "execution_count": 29,
      "outputs": [
        {
          "output_type": "execute_result",
          "data": {
            "text/plain": [
              "3"
            ]
          },
          "metadata": {},
          "execution_count": 29
        }
      ]
    },
    {
      "cell_type": "markdown",
      "metadata": {
        "id": "OhNRvWToPXk7"
      },
      "source": [
        "***shape va size metodlari***"
      ]
    },
    {
      "cell_type": "code",
      "metadata": {
        "colab": {
          "base_uri": "https://localhost:8080/"
        },
        "id": "FDSwJmzcPeNr",
        "outputId": "3cc16913-9a48-40fe-9c80-3416d93b7cb4"
      },
      "source": [
        "arr6.shape  # (blok, ustun, qator)"
      ],
      "execution_count": 30,
      "outputs": [
        {
          "output_type": "execute_result",
          "data": {
            "text/plain": [
              "(2, 3, 3)"
            ]
          },
          "metadata": {},
          "execution_count": 30
        }
      ]
    },
    {
      "cell_type": "code",
      "metadata": {
        "colab": {
          "base_uri": "https://localhost:8080/"
        },
        "id": "bINDbGrvPnDE",
        "outputId": "422aab16-adff-4130-88a5-e168c1cdc821"
      },
      "source": [
        "arr4.shape  # (qator, ustun)"
      ],
      "execution_count": 31,
      "outputs": [
        {
          "output_type": "execute_result",
          "data": {
            "text/plain": [
              "(3, 4)"
            ]
          },
          "metadata": {},
          "execution_count": 31
        }
      ]
    },
    {
      "cell_type": "code",
      "metadata": {
        "id": "ejfSivo9P2BL"
      },
      "source": [
        ""
      ],
      "execution_count": null,
      "outputs": []
    }
  ]
}